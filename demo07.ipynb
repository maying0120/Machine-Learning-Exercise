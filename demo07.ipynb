{
  "nbformat": 4,
  "nbformat_minor": 0,
  "metadata": {
    "colab": {
      "name": "lec7.ipynb",
      "provenance": [],
      "collapsed_sections": []
    },
    "kernelspec": {
      "name": "python3",
      "display_name": "Python 3"
    }
  },
  "cells": [
    {
      "cell_type": "markdown",
      "metadata": {
        "id": "GSoYYfztuaj9",
        "colab_type": "text"
      },
      "source": [
        "Let us now see how SVMs work and why they improve upon logistic regression.."
      ]
    },
    {
      "cell_type": "code",
      "metadata": {
        "id": "nf904JFiuga5",
        "colab_type": "code",
        "colab": {}
      },
      "source": [
        "%matplotlib inline\n",
        "import numpy as np\n",
        "import matplotlib.pyplot as plt"
      ],
      "execution_count": 0,
      "outputs": []
    },
    {
      "cell_type": "markdown",
      "metadata": {
        "id": "rBC0bYaYum7_",
        "colab_type": "text"
      },
      "source": [
        "Copy some code for the MNIST example from Lecture 5."
      ]
    },
    {
      "cell_type": "code",
      "metadata": {
        "id": "fYWx5B0Ouwlv",
        "colab_type": "code",
        "colab": {}
      },
      "source": [
        "from sklearn.datasets import fetch_openml\n",
        "\n",
        "X,y = fetch_openml('mnist_784',version=1,return_X_y=True)"
      ],
      "execution_count": 0,
      "outputs": []
    },
    {
      "cell_type": "code",
      "metadata": {
        "id": "-z48Sjwevxoc",
        "colab_type": "code",
        "colab": {
          "base_uri": "https://localhost:8080/",
          "height": 51
        },
        "outputId": "15363ed4-481c-4ba0-dc37-e22ea8726051"
      },
      "source": [
        "print(X.shape)\n",
        "print(y.shape)"
      ],
      "execution_count": 3,
      "outputs": [
        {
          "output_type": "stream",
          "text": [
            "(70000, 784)\n",
            "(70000,)\n"
          ],
          "name": "stdout"
        }
      ]
    },
    {
      "cell_type": "code",
      "metadata": {
        "id": "0k_AWdLNwJhf",
        "colab_type": "code",
        "colab": {
          "base_uri": "https://localhost:8080/",
          "height": 146
        },
        "outputId": "699ab1af-c080-4c33-a29c-31a4fa3f6bd7"
      },
      "source": [
        "plt.figure(figsize=(10,4))\n",
        "for index, (image, label) in enumerate(zip(X[0:5],y[0:5])):\n",
        "  plt.subplot(1,5,index+1)\n",
        "  plt.imshow(np.reshape(image,(28,28)), cmap=plt.cm.gray)"
      ],
      "execution_count": 4,
      "outputs": [
        {
          "output_type": "display_data",
          "data": {
            "image/png": "[encoded data removed]",
            "text/plain": [
              "<Figure size 720x288 with 5 Axes>"
            ]
          },
          "metadata": {
            "tags": []
          }
        }
      ]
    },
    {
      "cell_type": "code",
      "metadata": {
        "id": "z57mu_wzwhss",
        "colab_type": "code",
        "colab": {
          "base_uri": "https://localhost:8080/",
          "height": 136
        },
        "outputId": "cf6a2a3d-a7bf-4c25-b516-bed0b5f2acb2"
      },
      "source": [
        "from sklearn.model_selection import train_test_split\n",
        "from sklearn.preprocessing import StandardScaler\n",
        "from sklearn.linear_model import LogisticRegression\n",
        "\n",
        "x_train, x_test, y_train, y_test = train_test_split(X,y,test_size=1/7)\n",
        "scaler = StandardScaler()\n",
        "x_train = scaler.fit_transform(x_train)\n",
        "x_test = scaler.fit_transform(x_test)\n",
        "logisticReg = LogisticRegression(penalty='l2',tol=0.1,solver='saga',C=0.001)\n",
        "%time logisticReg.fit(x_train,y_train)"
      ],
      "execution_count": 5,
      "outputs": [
        {
          "output_type": "stream",
          "text": [
            "CPU times: user 10.7 s, sys: 0 ns, total: 10.7 s\n",
            "Wall time: 10.7 s\n"
          ],
          "name": "stdout"
        },
        {
          "output_type": "execute_result",
          "data": {
            "text/plain": [
              "LogisticRegression(C=0.001, class_weight=None, dual=False, fit_intercept=True,\n",
              "                   intercept_scaling=1, l1_ratio=None, max_iter=100,\n",
              "                   multi_class='auto', n_jobs=None, penalty='l2',\n",
              "                   random_state=None, solver='saga', tol=0.1, verbose=0,\n",
              "                   warm_start=False)"
            ]
          },
          "metadata": {
            "tags": []
          },
          "execution_count": 5
        }
      ]
    },
    {
      "cell_type": "code",
      "metadata": {
        "id": "1dcLe6hYxXtN",
        "colab_type": "code",
        "colab": {
          "base_uri": "https://localhost:8080/",
          "height": 34
        },
        "outputId": "4431ccbc-fc6c-439b-fc41-7cc1eaf4b196"
      },
      "source": [
        "predictions = logisticReg.predict(x_test)\n",
        "score = logisticReg.score(x_test,y_test)\n",
        "print(score)"
      ],
      "execution_count": 6,
      "outputs": [
        {
          "output_type": "stream",
          "text": [
            "0.8897\n"
          ],
          "name": "stdout"
        }
      ]
    },
    {
      "cell_type": "code",
      "metadata": {
        "id": "ThVyloqYxb4x",
        "colab_type": "code",
        "colab": {
          "base_uri": "https://localhost:8080/",
          "height": 309
        },
        "outputId": "0892b2ac-a848-4b01-c71c-e713c0b56569"
      },
      "source": [
        "def plot_weights(coef):\n",
        "  plt.figure(figsize=(10,5))\n",
        "  scale = np.abs(coef).max()\n",
        "  for i in range(10):\n",
        "    l2_plot = plt.subplot(2,5,i+1)\n",
        "    l2_plot.imshow(coef[i].reshape(28,28), vmin = -scale, vmax = scale, cmap=plt.cm.coolwarm)\n",
        "    l2_plot.set_xlabel('Class %i' % i)\n",
        "\n",
        "coef = logisticReg.coef_.copy()\n",
        "plot_weights(coef)\n"
      ],
      "execution_count": 7,
      "outputs": [
        {
          "output_type": "display_data",
          "data": {
            "image/png": "[encoded data removed]",
            "text/plain": [
              "<Figure size 720x360 with 10 Axes>"
            ]
          },
          "metadata": {
            "tags": []
          }
        }
      ]
    },
    {
      "cell_type": "markdown",
      "metadata": {
        "id": "JrIKV6RdxdSA",
        "colab_type": "text"
      },
      "source": [
        "OK! Learned digit models are not very human-interpretable. So we will instead try building an SVM for the same data. Actually 88% is not very good either."
      ]
    },
    {
      "cell_type": "code",
      "metadata": {
        "id": "zLsES7z8x0L6",
        "colab_type": "code",
        "colab": {
          "base_uri": "https://localhost:8080/",
          "height": 119
        },
        "outputId": "21a51f9b-18dd-4997-b26f-ea9c4a4e9930"
      },
      "source": [
        "from sklearn import svm\n",
        "\n",
        "ntr = x_train.shape[0]\n",
        "ntr1 = 5000\n",
        "nts1 = 1000\n",
        "Iperm = np.random.permutation(ntr1)\n",
        "x_train_small = x_train[Iperm[:ntr1],:]\n",
        "y_train_small = y_train[Iperm[:ntr1]]\n",
        "x_test_small = x_test[Iperm[:nts1],:]\n",
        "y_test_small = y_test[Iperm[:nts1]]\n",
        "\n",
        "svc = svm.SVC(probability=False,kernel=\"linear\",C=2.8,gamma=0.0073)\n",
        "% time svc.fit(x_train_small,y_train_small)"
      ],
      "execution_count": 10,
      "outputs": [
        {
          "output_type": "stream",
          "text": [
            "CPU times: user 6.3 s, sys: 2.9 ms, total: 6.3 s\n",
            "Wall time: 6.34 s\n"
          ],
          "name": "stdout"
        },
        {
          "output_type": "execute_result",
          "data": {
            "text/plain": [
              "SVC(C=2.8, break_ties=False, cache_size=200, class_weight=None, coef0=0.0,\n",
              "    decision_function_shape='ovr', degree=3, gamma=0.0073, kernel='linear',\n",
              "    max_iter=-1, probability=False, random_state=None, shrinking=True,\n",
              "    tol=0.001, verbose=False)"
            ]
          },
          "metadata": {
            "tags": []
          },
          "execution_count": 10
        }
      ]
    },
    {
      "cell_type": "code",
      "metadata": {
        "id": "YolBmWMIzra9",
        "colab_type": "code",
        "colab": {
          "base_uri": "https://localhost:8080/",
          "height": 34
        },
        "outputId": "b0c46159-058e-4c44-eb22-99a4d26870ed"
      },
      "source": [
        "yhat = svc.predict(x_test_small)\n",
        "\n",
        "acc = np.mean(yhat == y_test_small)\n",
        "print(acc)"
      ],
      "execution_count": 11,
      "outputs": [
        {
          "output_type": "stream",
          "text": [
            "0.898\n"
          ],
          "name": "stdout"
        }
      ]
    },
    {
      "cell_type": "code",
      "metadata": {
        "id": "nBBNunSf5WqO",
        "colab_type": "code",
        "colab": {
          "base_uri": "https://localhost:8080/",
          "height": 187
        },
        "outputId": "47f4c0c4-d90a-47b9-c414-7817ded5f23a"
      },
      "source": [
        "from sklearn.metrics import confusion_matrix\n",
        "print(confusion_matrix(y_test_small,yhat))"
      ],
      "execution_count": 12,
      "outputs": [
        {
          "output_type": "stream",
          "text": [
            "[[ 92   0   0   0   0   2   0   0   0   0]\n",
            " [  0 126   1   1   0   0   0   0   1   0]\n",
            " [  0   1  84   1   0   1   1   0   4   0]\n",
            " [  0   1   1  74   0   2   0   0   2   2]\n",
            " [  0   1   1   0  96   0   0   0   0   6]\n",
            " [  3   0   0   7   1  83   1   0   3   1]\n",
            " [  1   0   1   0   0   2 102   0   0   0]\n",
            " [  0   1   0   1   3   0   0  87   0   3]\n",
            " [  3   3   2   5   1   3   1   0  77   1]\n",
            " [  1   0   1   3   8   0   0  10   3  77]]\n"
          ],
          "name": "stdout"
        }
      ]
    },
    {
      "cell_type": "markdown",
      "metadata": {
        "id": "ndhTK93t1DEO",
        "colab_type": "text"
      },
      "source": [
        "Slightly better! Let's try visualizing the model. "
      ]
    },
    {
      "cell_type": "code",
      "metadata": {
        "id": "T-g6n74F6cFj",
        "colab_type": "code",
        "colab": {
          "base_uri": "https://localhost:8080/",
          "height": 326
        },
        "outputId": "0624def5-0b00-4267-a86b-98ad06edb23f"
      },
      "source": [
        "coef_svm = svc.coef_\n",
        "plot_weights(coef_svm)\n",
        "print(coef_svm.shape)"
      ],
      "execution_count": 13,
      "outputs": [
        {
          "output_type": "stream",
          "text": [
            "(45, 784)\n"
          ],
          "name": "stdout"
        },
        {
          "output_type": "display_data",
          "data": {
            "image/png": "[encoded data removed]",
            "text/plain": [
              "<Figure size 720x360 with 10 Axes>"
            ]
          },
          "metadata": {
            "tags": []
          }
        }
      ]
    },
    {
      "cell_type": "markdown",
      "metadata": {
        "id": "Ta4r01SU6m8-",
        "colab_type": "text"
      },
      "source": [
        "Hmm interesting. We have more coefficient vectors (45) than classes! Why is that? Multi-class classification is handled a bit strangely: we get one-vs-one classification, which means that for 10 classes we have 10C2 = 45 models. Instead, let's use a different interpretation using the support vectors."
      ]
    },
    {
      "cell_type": "code",
      "metadata": {
        "id": "GluicePt8onB",
        "colab_type": "code",
        "colab": {
          "base_uri": "https://localhost:8080/",
          "height": 326
        },
        "outputId": "e237a272-4dbc-4a6f-b511-f33d6c32cc56"
      },
      "source": [
        "S = svc.support_vectors_\n",
        "print(S.shape)\n",
        "\n",
        "plot_weights(S[-10:,:])"
      ],
      "execution_count": 14,
      "outputs": [
        {
          "output_type": "stream",
          "text": [
            "(1786, 784)\n"
          ],
          "name": "stdout"
        },
        {
          "output_type": "display_data",
          "data": {
            "image/png": "[encoded data removed]",
            "text/plain": [
              "<Figure size 720x360 with 10 Axes>"
            ]
          },
          "metadata": {
            "tags": []
          }
        }
      ]
    },
    {
      "cell_type": "code",
      "metadata": {
        "id": "F_EG2Shr-_Za",
        "colab_type": "code",
        "colab": {
          "base_uri": "https://localhost:8080/",
          "height": 34
        },
        "outputId": "2fd02fd9-9095-4b17-a7e6-7d4bc03dca6b"
      },
      "source": [
        "print(svc.n_support_)"
      ],
      "execution_count": 15,
      "outputs": [
        {
          "output_type": "stream",
          "text": [
            "[136 106 201 188 195 225 148 178 200 209]\n"
          ],
          "name": "stdout"
        }
      ]
    },
    {
      "cell_type": "code",
      "metadata": {
        "id": "pDbE9YH7Bp42",
        "colab_type": "code",
        "colab": {
          "base_uri": "https://localhost:8080/",
          "height": 173
        },
        "outputId": "adba35fb-e3a5-49dd-8aa9-f025afb0a877"
      },
      "source": [
        "svcrbf = svm.SVC(probability=False,kernel=\"rbf\",C=5,decision_function_shape='ovo',max_iter=1000)\n",
        "%time svcrbf.fit(x_train_small,y_train_small)"
      ],
      "execution_count": 24,
      "outputs": [
        {
          "output_type": "stream",
          "text": [
            "CPU times: user 14.3 s, sys: 0 ns, total: 14.3 s\n",
            "Wall time: 14.4 s\n"
          ],
          "name": "stdout"
        },
        {
          "output_type": "stream",
          "text": [
            "/usr/local/lib/python3.6/dist-packages/sklearn/svm/_base.py:231: ConvergenceWarning: Solver terminated early (max_iter=1000).  Consider pre-processing your data with StandardScaler or MinMaxScaler.\n",
            "  % self.max_iter, ConvergenceWarning)\n"
          ],
          "name": "stderr"
        },
        {
          "output_type": "execute_result",
          "data": {
            "text/plain": [
              "SVC(C=5, break_ties=False, cache_size=200, class_weight=None, coef0=0.0,\n",
              "    decision_function_shape='ovo', degree=3, gamma='scale', kernel='rbf',\n",
              "    max_iter=1000, probability=False, random_state=None, shrinking=True,\n",
              "    tol=0.001, verbose=False)"
            ]
          },
          "metadata": {
            "tags": []
          },
          "execution_count": 24
        }
      ]
    },
    {
      "cell_type": "code",
      "metadata": {
        "id": "-SO52Rte_R-z",
        "colab_type": "code",
        "colab": {
          "base_uri": "https://localhost:8080/",
          "height": 34
        },
        "outputId": "d6436180-12b6-4d0e-aab1-abb56a96373b"
      },
      "source": [
        "yhat_rbf = svcrbf.predict(x_test_small)\n",
        "acc_rbf = np.mean(yhat_rbf == y_test_small)\n",
        "print(acc_rbf)"
      ],
      "execution_count": 25,
      "outputs": [
        {
          "output_type": "stream",
          "text": [
            "0.927\n"
          ],
          "name": "stdout"
        }
      ]
    },
    {
      "cell_type": "markdown",
      "metadata": {
        "id": "aqKhAKw5FfTb",
        "colab_type": "text"
      },
      "source": [
        "Let's try running this on the full MNIST dataset. It may take some time.."
      ]
    },
    {
      "cell_type": "code",
      "metadata": {
        "id": "3S7DZgfLFieB",
        "colab_type": "code",
        "colab": {
          "base_uri": "https://localhost:8080/",
          "height": 122
        },
        "outputId": "6646f07c-2bac-4454-d577-f266cd31c590"
      },
      "source": [
        "# %time svcrbf.fit(x_train,y_train)\n",
        "# yhat_rbf_full = svcrbf.predict(x_test)\n",
        "# acc_rbf_full = np.mean(yhat_rbf_full == y_test)\n",
        "# print(acc_rbf)"
      ],
      "execution_count": 26,
      "outputs": [
        {
          "output_type": "stream",
          "text": [
            "/usr/local/lib/python3.6/dist-packages/sklearn/svm/_base.py:231: ConvergenceWarning: Solver terminated early (max_iter=1000).  Consider pre-processing your data with StandardScaler or MinMaxScaler.\n",
            "  % self.max_iter, ConvergenceWarning)\n"
          ],
          "name": "stderr"
        },
        {
          "output_type": "stream",
          "text": [
            "CPU times: user 12min 3s, sys: 199 ms, total: 12min 4s\n",
            "Wall time: 12min 5s\n",
            "0.927\n"
          ],
          "name": "stdout"
        }
      ]
    }
  ]
}