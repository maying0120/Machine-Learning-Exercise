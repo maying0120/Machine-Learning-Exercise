{
  "nbformat": 4,
  "nbformat_minor": 0,
  "metadata": {
    "colab": {
      "name": "demo08.ipynb",
      "provenance": []
    },
    "kernelspec": {
      "name": "python3",
      "display_name": "Python 3"
    },
    "accelerator": "GPU"
  },
  "cells": [
    {
      "cell_type": "markdown",
      "metadata": {
        "id": "NQ727lB7Bd-Q"
      },
      "source": [
        "multi-layer nets-PyTorch"
      ]
    },
    {
      "cell_type": "code",
      "metadata": {
        "id": "8zHrM6ihB1uA"
      },
      "source": [
        "import numpy as np\n",
        "import torch\n",
        "import torchvision"
      ],
      "execution_count": null,
      "outputs": []
    },
    {
      "cell_type": "code",
      "metadata": {
        "id": "MvAolsJ6CJJs",
        "colab": {
          "base_uri": "https://localhost:8080/",
          "height": 85
        },
        "outputId": "3fa32faf-beda-4415-ae6d-3901dc515eca"
      },
      "source": [
        "a = np.random.rand(2,3)\n",
        "print(a)\n",
        "\n",
        "b = torch.from_numpy(a)\n",
        "print(b)"
      ],
      "execution_count": null,
      "outputs": [
        {
          "output_type": "stream",
          "text": [
            "[[0.97329184 0.8184028  0.53794621]\n",
            " [0.32927566 0.48143315 0.27906962]]\n",
            "tensor([[0.9733, 0.8184, 0.5379],\n",
            "        [0.3293, 0.4814, 0.2791]], dtype=torch.float64)\n"
          ],
          "name": "stdout"
        }
      ]
    },
    {
      "cell_type": "markdown",
      "metadata": {
        "id": "cuRIMzC-CYx-"
      },
      "source": [
        "The idea in Torch is that tensors allow for easy forward (function evaluations) and backward (gradient) passes."
      ]
    },
    {
      "cell_type": "code",
      "metadata": {
        "id": "gb2LWPSACqiS",
        "colab": {
          "base_uri": "https://localhost:8080/",
          "height": 136
        },
        "outputId": "4e3c5277-c7db-4094-f54e-cc55481eef38"
      },
      "source": [
        "A = torch.rand(2,2)\n",
        "b = torch.rand(2,1)\n",
        "x = torch.rand(2,1, requires_grad=True)\n",
        "\n",
        "y = torch.matmul(A,x) + b\n",
        "\n",
        "print(y)\n",
        "z = y.sum()\n",
        "print(z)\n",
        "z.backward()\n",
        "print(x.grad)\n",
        "print(x)"
      ],
      "execution_count": null,
      "outputs": [
        {
          "output_type": "stream",
          "text": [
            "tensor([[0.9972],\n",
            "        [0.7688]], grad_fn=<AddBackward0>)\n",
            "tensor(1.7660, grad_fn=<SumBackward0>)\n",
            "tensor([[0.8651],\n",
            "        [1.3324]])\n",
            "tensor([[0.0328],\n",
            "        [0.7595]], requires_grad=True)\n"
          ],
          "name": "stdout"
        }
      ]
    },
    {
      "cell_type": "markdown",
      "metadata": {
        "id": "J4ptw5BlEHVL"
      },
      "source": [
        "The backward pass computed the gradients using autograd."
      ]
    },
    {
      "cell_type": "code",
      "metadata": {
        "id": "zSTq5wKoEPlA"
      },
      "source": [
        "trainingdata = torchvision.datasets.FashionMNIST('./FashionMNIST/',train=True,download=True,transform=torchvision.transforms.ToTensor())\n",
        "testdata = torchvision.datasets.FashionMNIST('./FashionMNIST/',train=False,download=True,transform=torchvision.transforms.ToTensor())\n"
      ],
      "execution_count": null,
      "outputs": []
    },
    {
      "cell_type": "code",
      "metadata": {
        "id": "qMb0WQthE2vR",
        "colab": {
          "base_uri": "https://localhost:8080/",
          "height": 34
        },
        "outputId": "7b47f0ba-8801-45c3-fc8a-77b889a98867"
      },
      "source": [
        "print(len(trainingdata),len(testdata))"
      ],
      "execution_count": null,
      "outputs": [
        {
          "output_type": "stream",
          "text": [
            "60000 10000\n"
          ],
          "name": "stdout"
        }
      ]
    },
    {
      "cell_type": "code",
      "metadata": {
        "id": "rhjYbu_fE-Dz",
        "colab": {
          "base_uri": "https://localhost:8080/",
          "height": 34
        },
        "outputId": "48753ba7-9d64-420a-e699-b41279baf66c"
      },
      "source": [
        "image, label = trainingdata[0]\n",
        "print(image.shape, label)"
      ],
      "execution_count": null,
      "outputs": [
        {
          "output_type": "stream",
          "text": [
            "torch.Size([1, 28, 28]) 9\n"
          ],
          "name": "stdout"
        }
      ]
    },
    {
      "cell_type": "markdown",
      "metadata": {
        "id": "beaahX9xFQf2"
      },
      "source": [
        "It is a tensor, not an array. We need to postprocess to use matplotlib."
      ]
    },
    {
      "cell_type": "code",
      "metadata": {
        "id": "iaEVjo9BFYQo",
        "colab": {
          "base_uri": "https://localhost:8080/",
          "height": 265
        },
        "outputId": "235d0e8b-e81c-41d1-c13f-6607b415d087"
      },
      "source": [
        "import matplotlib.pyplot as plt\n",
        "%matplotlib inline\n",
        "plt.imshow(image.squeeze().numpy())\n",
        "plt.show()"
      ],
      "execution_count": null,
      "outputs": [
        {
          "output_type": "display_data",
          "data": {
            "image/png": "[encoded data removed]",
            "text/plain": [
              "<Figure size 432x288 with 1 Axes>"
            ]
          },
          "metadata": {
            "tags": []
          }
        }
      ]
    },
    {
      "cell_type": "code",
      "metadata": {
        "id": "rypRoXGKHG2a"
      },
      "source": [
        "trainDataLoader = torch.utils.data.DataLoader(trainingdata, batch_size=64, shuffle=True)\n",
        "testDataLoader = torch.utils.data.DataLoader(testdata, batch_size=64, shuffle=False)"
      ],
      "execution_count": null,
      "outputs": []
    },
    {
      "cell_type": "code",
      "metadata": {
        "id": "qsEo4adVIXsy",
        "colab": {
          "base_uri": "https://localhost:8080/",
          "height": 68
        },
        "outputId": "8429ddcc-284f-4a9a-db28-65d43de0df0c"
      },
      "source": [
        "images, labels = iter(trainDataLoader).next()\n",
        "print(images.size(), labels)"
      ],
      "execution_count": null,
      "outputs": [
        {
          "output_type": "stream",
          "text": [
            "torch.Size([64, 1, 28, 28]) tensor([2, 7, 3, 6, 3, 7, 4, 9, 2, 6, 4, 9, 5, 2, 1, 4, 2, 5, 0, 4, 4, 4, 6, 2,\n",
            "        5, 0, 4, 0, 5, 3, 9, 2, 3, 0, 6, 6, 8, 5, 9, 9, 4, 1, 2, 8, 5, 5, 6, 6,\n",
            "        6, 7, 7, 4, 3, 3, 4, 0, 3, 8, 3, 8, 3, 4, 3, 3])\n"
          ],
          "name": "stdout"
        }
      ]
    },
    {
      "cell_type": "code",
      "metadata": {
        "id": "hq0HcYLCIq1B",
        "colab": {
          "base_uri": "https://localhost:8080/",
          "height": 146
        },
        "outputId": "8fc26e83-a832-4b07-8e35-f26dfcb2c4aa"
      },
      "source": [
        "plt.figure(figsize=(10,4))\n",
        "for index in np.arange(0,5):\n",
        "  plt.subplot(1,5,index+1)\n",
        "  plt.imshow(images[index].squeeze().numpy(),cmap=plt.cm.gray)"
      ],
      "execution_count": null,
      "outputs": [
        {
          "output_type": "display_data",
          "data": {
            "image/png": "[encoded data removed]",
            "text/plain": [
              "<Figure size 720x288 with 5 Axes>"
            ]
          },
          "metadata": {
            "tags": []
          }
        }
      ]
    },
    {
      "cell_type": "code",
      "metadata": {
        "id": "qUI2KGrDJpRx"
      },
      "source": [
        "class LinearReg(torch.nn.Module):\n",
        "  def __init__(self):\n",
        "    super(LinearReg, self).__init__()\n",
        "    self.linear = torch.nn.Linear(28*28,10)\n",
        "\n",
        "  def forward(self, x):\n",
        "    x = x.view(-1,28*28)\n",
        "    transformed_x = self.linear(x)\n",
        "    return transformed_x\n",
        "\n",
        "net = LinearReg().cuda()\n",
        "Loss = torch.nn.CrossEntropyLoss()\n",
        "optimizer = torch.optim.SGD(net.parameters(), lr=0.01)\n",
        "\n"
      ],
      "execution_count": null,
      "outputs": []
    },
    {
      "cell_type": "markdown",
      "metadata": {
        "id": "YfCQuKX7LAqV"
      },
      "source": [
        "Train the network."
      ]
    },
    {
      "cell_type": "code",
      "metadata": {
        "id": "72TiXpC8LEMX",
        "colab": {
          "base_uri": "https://localhost:8080/",
          "height": 357
        },
        "outputId": "c140fbfa-2df2-4659-ab65-32bf6e95e63e"
      },
      "source": [
        "train_loss_history = []\n",
        "test_loss_history = []\n",
        "\n",
        "for epoch in range(20):\n",
        "  train_loss = 0.0\n",
        "  test_loss = 0.0\n",
        "  for i, data in enumerate(trainDataLoader):\n",
        "    images, labels = data\n",
        "    images = images.cuda()\n",
        "    labels = labels.cuda()\n",
        "    optimizer.zero_grad()\n",
        "    predicted_output = net(images)\n",
        "    fit = Loss(predicted_output,labels)\n",
        "    fit.backward()\n",
        "    optimizer.step()\n",
        "    train_loss += fit.item()\n",
        "  for i, data in enumerate(testDataLoader):\n",
        "    with torch.no_grad():\n",
        "      images, labels = data\n",
        "      images = images.cuda()\n",
        "      labels = labels.cuda()\n",
        "      predicted_output = net(images)\n",
        "      fit = Loss(predicted_output,labels)\n",
        "      test_loss += fit.item()\n",
        "  train_loss = train_loss/len(trainDataLoader)\n",
        "  test_loss = test_loss/len(testDataLoader)\n",
        "  train_loss_history.append(train_loss)\n",
        "  test_loss_history.append(test_loss)\n",
        "  print('Epoch %s, Train loss %s, Test loss %s'%(epoch, train_loss, test_loss))"
      ],
      "execution_count": null,
      "outputs": [
        {
          "output_type": "stream",
          "text": [
            "Epoch 0, Train loss 0.962718647044859, Test loss 0.7394164491231274\n",
            "Epoch 1, Train loss 0.6678871326863385, Test loss 0.6467844312358054\n",
            "Epoch 2, Train loss 0.6037305348209226, Test loss 0.6036576053519158\n",
            "Epoch 3, Train loss 0.5682870054136969, Test loss 0.579158300996586\n",
            "Epoch 4, Train loss 0.5456478984307632, Test loss 0.5595327822645758\n",
            "Epoch 5, Train loss 0.5288768831346589, Test loss 0.5468165380939557\n",
            "Epoch 6, Train loss 0.5162919589769103, Test loss 0.5357637635082196\n",
            "Epoch 7, Train loss 0.5059161315213389, Test loss 0.52770537024091\n",
            "Epoch 8, Train loss 0.4975833669781431, Test loss 0.5209156887926114\n",
            "Epoch 9, Train loss 0.490400868263453, Test loss 0.515774294828913\n",
            "Epoch 10, Train loss 0.4842610348230486, Test loss 0.5096913139531567\n",
            "Epoch 11, Train loss 0.4788224052455125, Test loss 0.506357757528876\n",
            "Epoch 12, Train loss 0.47393937836260175, Test loss 0.5024205670235263\n",
            "Epoch 13, Train loss 0.4699769388796932, Test loss 0.5000300154944134\n",
            "Epoch 14, Train loss 0.46620280413167564, Test loss 0.4947607781097388\n",
            "Epoch 15, Train loss 0.46279092250602333, Test loss 0.49202916937269225\n",
            "Epoch 16, Train loss 0.45980159040770807, Test loss 0.4886204714228393\n",
            "Epoch 17, Train loss 0.4566683091366215, Test loss 0.4868291844228271\n",
            "Epoch 18, Train loss 0.4541553847952438, Test loss 0.48535446642310753\n",
            "Epoch 19, Train loss 0.451550436648987, Test loss 0.483275003588883\n"
          ],
          "name": "stdout"
        }
      ]
    },
    {
      "cell_type": "code",
      "metadata": {
        "id": "7pY0PZU2NWWf",
        "colab": {
          "base_uri": "https://localhost:8080/",
          "height": 296
        },
        "outputId": "d7d3b186-4cd8-4872-e1dc-a51c6000ab43"
      },
      "source": [
        "plt.plot(range(20),train_loss_history,'-',linewidth=3,label='Train error')\n",
        "plt.plot(range(20),test_loss_history,'-',linewidth=3,label='Test error')\n",
        "plt.xlabel('epoch')\n",
        "plt.ylabel('loss')\n",
        "plt.grid(True)\n",
        "plt.legend()"
      ],
      "execution_count": null,
      "outputs": [
        {
          "output_type": "execute_result",
          "data": {
            "text/plain": [
              "<matplotlib.legend.Legend at 0x7f2fef2c37f0>"
            ]
          },
          "metadata": {
            "tags": []
          },
          "execution_count": 29
        },
        {
          "output_type": "display_data",
          "data": {
            "image/png": "[encoded data removed]",
            "text/plain": [
              "<Figure size 432x288 with 1 Axes>"
            ]
          },
          "metadata": {
            "tags": []
          }
        }
      ]
    },
    {
      "cell_type": "markdown",
      "metadata": {
        "id": "7e1AOrb7PCQ2"
      },
      "source": [
        "Evaluate on the entire dataset."
      ]
    },
    {
      "cell_type": "code",
      "metadata": {
        "id": "BpbhEoBGPDs6",
        "colab": {
          "base_uri": "https://localhost:8080/",
          "height": 119
        },
        "outputId": "0ef4f1ae-4feb-44ca-89eb-25f767fdcbc5"
      },
      "source": [
        "predicted_output = net(images)\n",
        "print(torch.max(predicted_output, 1))\n",
        "fit = Loss(predicted_output, labels)\n",
        "print(labels)"
      ],
      "execution_count": null,
      "outputs": [
        {
          "output_type": "stream",
          "text": [
            "torch.return_types.max(\n",
            "values=tensor([ 6.0837,  3.1317,  9.1140,  7.7421,  6.6457,  6.1580, 10.1397,  4.2204,\n",
            "         6.8977, 11.5810, 10.6048, 10.2698,  6.7915,  4.7407,  9.4972,  4.4949],\n",
            "       device='cuda:0', grad_fn=<MaxBackward0>),\n",
            "indices=tensor([3, 1, 7, 5, 8, 2, 5, 6, 8, 9, 1, 9, 1, 8, 1, 5], device='cuda:0'))\n",
            "tensor([3, 2, 7, 5, 8, 4, 5, 6, 8, 9, 1, 9, 1, 8, 1, 5], device='cuda:0')\n"
          ],
          "name": "stdout"
        }
      ]
    }
  ]
}