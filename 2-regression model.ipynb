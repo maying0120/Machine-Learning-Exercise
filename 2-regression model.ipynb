{
  "nbformat": 4,
  "nbformat_minor": 0,
  "metadata": {
    "colab": {
      "name": "dem2.ipynb",
      "provenance": []
    },
    "kernelspec": {
      "name": "python3",
      "display_name": "Python 3"
    }
  },
  "cells": [
    {
      "cell_type": "markdown",
      "metadata": {
        "id": "dfzilw07Lj5H",
        "colab_type": "text"
      },
      "source": [
        "Let's import the previous dataset."
      ]
    },
    {
      "cell_type": "code",
      "metadata": {
        "id": "b_wYySMQLpYO",
        "colab_type": "code",
        "colab": {}
      },
      "source": [
        "import pandas as pd\n",
        "import numpy as np"
      ],
      "execution_count": 0,
      "outputs": []
    },
    {
      "cell_type": "code",
      "metadata": {
        "id": "pMhtBWgnLvpx",
        "colab_type": "code",
        "outputId": "d5ac6f22-dd1b-464b-bb04-309803dd8821",
        "colab": {
          "base_uri": "https://localhost:8080/",
          "height": 34
        }
      },
      "source": [
        "names = ['mpg', 'cylinders','displacement', 'horsepower', \n",
        "         'weight', 'acceleration', 'model year', 'origin', 'car name']\n",
        "df = pd.read_csv('https://archive.ics.uci.edu/ml/machine-learning-databases/'+\n",
        "                 'auto-mpg/auto-mpg.data',\n",
        "                 header=None,delim_whitespace=True,names=names,na_values='?')\n",
        "\n",
        "df1 = df[['mpg','horsepower']]\n",
        "df2 = df1.dropna()\n",
        "\n",
        "x = np.array(df2['horsepower'])\n",
        "y = np.array(df2['mpg'])\n",
        "np.mean(x)"
      ],
      "execution_count": 45,
      "outputs": [
        {
          "output_type": "execute_result",
          "data": {
            "text/plain": [
              "104.46938775510205"
            ]
          },
          "metadata": {
            "tags": []
          },
          "execution_count": 45
        }
      ]
    },
    {
      "cell_type": "markdown",
      "metadata": {
        "id": "OnsucD_gMOwG",
        "colab_type": "text"
      },
      "source": [
        "Basic plotting as sanity check."
      ]
    },
    {
      "cell_type": "code",
      "metadata": {
        "id": "X6z2nJZVMRdZ",
        "colab_type": "code",
        "outputId": "421daf1d-d529-49f5-8708-3d1800e15c49",
        "colab": {
          "base_uri": "https://localhost:8080/",
          "height": 279
        }
      },
      "source": [
        "import matplotlib.pyplot as plt\n",
        "%matplotlib inline\n",
        "\n",
        "plt.plot(x,y,'o')\n",
        "plt.xlabel('horsepower')\n",
        "plt.ylabel('mpg')\n",
        "plt.grid(True)"
      ],
      "execution_count": 46,
      "outputs": [
        {
          "output_type": "display_data",
          "data": {
            "image/png": "[encoded data removed]",
            "text/plain": [
              "<Figure size 432x288 with 1 Axes>"
            ]
          },
          "metadata": {
            "tags": []
          }
        }
      ]
    },
    {
      "cell_type": "code",
      "metadata": {
        "id": "E3UKRaYYNOVA",
        "colab_type": "code",
        "outputId": "d9f5e7be-1826-4fe2-bb9c-47472b90604a",
        "colab": {
          "base_uri": "https://localhost:8080/",
          "height": 68
        }
      },
      "source": [
        "xm = np.mean(x)\n",
        "ym = np.mean(y)\n",
        "sxx = np.mean((x-xm)**2)\n",
        "syy = np.mean((y-ym)**2)\n",
        "syx = np.mean((y-ym)*(x-xm))\n",
        "\n",
        "beta1 = syx/sxx\n",
        "beta0 = ym - beta1*xm\n",
        "\n",
        "print(\"xbar={0:.2f},ybar={1:.2f}\".format(xm,ym))\n",
        "print(\"sqrt(xx)={0:.2f},sqrt(yy)={1:.2f}\".format(np.sqrt(sxx),np.sqrt(syy)))\n",
        "print(\"beta0={0:.2f},beta1={1:.2f}\".format(beta0,beta1))"
      ],
      "execution_count": 47,
      "outputs": [
        {
          "output_type": "stream",
          "text": [
            "xbar=104.47,ybar=23.45\n",
            "sqrt(xx)=38.44,sqrt(yy)=7.80\n",
            "beta0=39.94,beta1=-0.16\n"
          ],
          "name": "stdout"
        }
      ]
    },
    {
      "cell_type": "markdown",
      "metadata": {
        "id": "2L_E46RePLoG",
        "colab_type": "text"
      },
      "source": [
        "Let's see how the regression model works."
      ]
    },
    {
      "cell_type": "code",
      "metadata": {
        "id": "AAHLEhH1PN0R",
        "colab_type": "code",
        "outputId": "4dd3e7a4-1521-4730-9cc8-d04cde8005de",
        "colab": {
          "base_uri": "https://localhost:8080/",
          "height": 279
        }
      },
      "source": [
        "xmodel = np.array([25,250])\n",
        "ymodel = beta0 + beta1*xmodel\n",
        "\n",
        "plt.plot(x,y,'o')\n",
        "plt.plot(xmodel,ymodel,'-',linewidth=3)\n",
        "plt.xlabel('horsepower')\n",
        "plt.ylabel('mpg')\n",
        "plt.grid(True)"
      ],
      "execution_count": 48,
      "outputs": [
        {
          "output_type": "display_data",
          "data": {
            "image/png": "[encoded data removed]",
            "text/plain": [
              "<Figure size 432x288 with 1 Axes>"
            ]
          },
          "metadata": {
            "tags": []
          }
        }
      ]
    },
    {
      "cell_type": "code",
      "metadata": {
        "id": "Jq_P6u9dQBB5",
        "colab_type": "code",
        "outputId": "eb930486-8361-4b93-9c5e-a4d0a9da707e",
        "colab": {
          "base_uri": "https://localhost:8080/",
          "height": 34
        }
      },
      "source": [
        "yhat = beta0 + beta1*x\n",
        "SSE = np.mean((y - yhat)**2)\n",
        "print(SSE)"
      ],
      "execution_count": 49,
      "outputs": [
        {
          "output_type": "stream",
          "text": [
            "23.943662938603108\n"
          ],
          "name": "stdout"
        }
      ]
    },
    {
      "cell_type": "markdown",
      "metadata": {
        "id": "jokpU0ExQ7t3",
        "colab_type": "text"
      },
      "source": [
        "Decent...but can we do better? There seems to be a 1/x type dependence. Let's test it to see if it gives lower error."
      ]
    },
    {
      "cell_type": "code",
      "metadata": {
        "id": "cwQo4W03RDCr",
        "colab_type": "code",
        "outputId": "878425aa-a889-4cd1-e018-2e1b9650f25e",
        "colab": {
          "base_uri": "https://localhost:8080/",
          "height": 279
        }
      },
      "source": [
        "z = 1/y\n",
        "plt.plot(x,z,'o')\n",
        "plt.xlabel('horsepower')\n",
        "plt.ylabel('1/mpg')\n",
        "plt.grid(True)"
      ],
      "execution_count": 50,
      "outputs": [
        {
          "output_type": "display_data",
          "data": {
            "image/png": "[encoded data removed]",
            "text/plain": [
              "<Figure size 432x288 with 1 Axes>"
            ]
          },
          "metadata": {
            "tags": []
          }
        }
      ]
    },
    {
      "cell_type": "markdown",
      "metadata": {
        "id": "89p-0hDNRYo5",
        "colab_type": "text"
      },
      "source": [
        "Looks linear! Let's fit a linear model between x and z."
      ]
    },
    {
      "cell_type": "code",
      "metadata": {
        "id": "8zFvXDvmRcEZ",
        "colab_type": "code",
        "outputId": "10e82507-3f48-44c8-f851-87f52be592b2",
        "colab": {
          "base_uri": "https://localhost:8080/",
          "height": 34
        }
      },
      "source": [
        "xm = np.mean(x)\n",
        "zm = np.mean(z)\n",
        "sxx = np.mean((x-xm)**2)\n",
        "szz = np.mean((z-zm)**2)\n",
        "szx = np.mean((z-zm)*(x-xm))\n",
        "\n",
        "beta1 = szx/sxx\n",
        "beta0 = zm - beta1*xm\n",
        "\n",
        "print([beta0,beta1])"
      ],
      "execution_count": 51,
      "outputs": [
        {
          "output_type": "stream",
          "text": [
            "[0.009218138877684919, 0.00036952728304329803]\n"
          ],
          "name": "stdout"
        }
      ]
    },
    {
      "cell_type": "code",
      "metadata": {
        "id": "cy3DW68USIDV",
        "colab_type": "code",
        "outputId": "9401aed8-0ad5-4d9b-9d5a-7732b21f55a6",
        "colab": {
          "base_uri": "https://localhost:8080/",
          "height": 279
        }
      },
      "source": [
        "xmodel = np.array([25,250])\n",
        "zmodel = beta0 + beta1*xmodel\n",
        "\n",
        "plt.plot(x,z,'o')\n",
        "plt.plot(xmodel,zmodel,'-',linewidth=3)\n",
        "plt.xlabel('horsepower')\n",
        "plt.ylabel('1/mpg')\n",
        "plt.grid(True)"
      ],
      "execution_count": 52,
      "outputs": [
        {
          "output_type": "display_data",
          "data": {
            "image/png": "[encoded data removed]",
            "text/plain": [
              "<Figure size 432x288 with 1 Axes>"
            ]
          },
          "metadata": {
            "tags": []
          }
        }
      ]
    },
    {
      "cell_type": "markdown",
      "metadata": {
        "id": "ecpLJzDaLd1n",
        "colab_type": "text"
      },
      "source": [
        "Maybe it helps to visualize on the original mpg data (instead of the inverse?) Let's check."
      ]
    },
    {
      "cell_type": "code",
      "metadata": {
        "id": "CxGk7JMELiVB",
        "colab_type": "code",
        "outputId": "48bdd57d-bd60-4e4a-97c6-7152deb2f5dd",
        "colab": {
          "base_uri": "https://localhost:8080/",
          "height": 279
        }
      },
      "source": [
        "zhat = beta0 + beta1*x\n",
        "yhat_inv = 1/zhat\n",
        "\n",
        "plt.plot(x,y,'o')\n",
        "plt.plot(x,yhat_inv,'o')\n",
        "plt.xlabel('horsepower')\n",
        "plt.ylabel('mpg')\n",
        "plt.grid(True)"
      ],
      "execution_count": 53,
      "outputs": [
        {
          "output_type": "display_data",
          "data": {
            "image/png": "[encoded data removed]",
            "text/plain": [
              "<Figure size 432x288 with 1 Axes>"
            ]
          },
          "metadata": {
            "tags": []
          }
        }
      ]
    },
    {
      "cell_type": "markdown",
      "metadata": {
        "id": "ESvfXZiDSixh",
        "colab_type": "text"
      },
      "source": [
        "Great! Let's now check error."
      ]
    },
    {
      "cell_type": "code",
      "metadata": {
        "id": "RFNl75rcSk1g",
        "colab_type": "code",
        "outputId": "d70c231e-4297-4db2-e322-e4fb39ad1fe9",
        "colab": {
          "base_uri": "https://localhost:8080/",
          "height": 51
        }
      },
      "source": [
        "SSE_inv = np.mean((y - yhat_inv)**2)\n",
        "\n",
        "print(\"MSE = {0:.2f} (linear)\".format(SSE))\n",
        "print(\"MSE_inv = {0:.2f} (linear+inversion)\".format(SSE_inv))"
      ],
      "execution_count": 54,
      "outputs": [
        {
          "output_type": "stream",
          "text": [
            "MSE = 23.94 (linear)\n",
            "MSE_inv = 20.66 (linear+inversion)\n"
          ],
          "name": "stdout"
        }
      ]
    },
    {
      "cell_type": "markdown",
      "metadata": {
        "id": "8WkluuW8T1ee",
        "colab_type": "text"
      },
      "source": [
        "One example with multivariate? Let's try it. This will also be an introduction to sklearn. "
      ]
    },
    {
      "cell_type": "code",
      "metadata": {
        "id": "-jPYsW2bT7CE",
        "colab_type": "code",
        "colab": {
          "base_uri": "https://localhost:8080/",
          "height": 51
        },
        "outputId": "13012a12-6a1f-485f-fc88-1ba669c1e2b8"
      },
      "source": [
        "from sklearn import datasets, linear_model\n",
        "\n",
        "# Load the diabetes dataset\n",
        "diabetes = datasets.load_diabetes()\n",
        "X = diabetes.data\n",
        "y = diabetes.target\n",
        "\n",
        "samp, natt = X.shape\n",
        "print(samp)\n",
        "print(natt)"
      ],
      "execution_count": 55,
      "outputs": [
        {
          "output_type": "stream",
          "text": [
            "442\n",
            "10\n"
          ],
          "name": "stdout"
        }
      ]
    },
    {
      "cell_type": "code",
      "metadata": {
        "id": "UtelRReXUMb1",
        "colab_type": "code",
        "colab": {
          "base_uri": "https://localhost:8080/",
          "height": 34
        },
        "outputId": "eaaf33ad-315c-4773-b746-fc2ffd09abde"
      },
      "source": [
        "regr = linear_model.LinearRegression()\n",
        "regr.fit(X,y)\n",
        "\n",
        "regr.intercept_\n"
      ],
      "execution_count": 56,
      "outputs": [
        {
          "output_type": "execute_result",
          "data": {
            "text/plain": [
              "152.1334841628965"
            ]
          },
          "metadata": {
            "tags": []
          },
          "execution_count": 56
        }
      ]
    },
    {
      "cell_type": "code",
      "metadata": {
        "id": "mojbdoSlUarX",
        "colab_type": "code",
        "colab": {
          "base_uri": "https://localhost:8080/",
          "height": 68
        },
        "outputId": "2fe52c93-d58d-4f3e-b00d-04769f5b52a4"
      },
      "source": [
        "regr.coef_"
      ],
      "execution_count": 57,
      "outputs": [
        {
          "output_type": "execute_result",
          "data": {
            "text/plain": [
              "array([ -10.01219782, -239.81908937,  519.83978679,  324.39042769,\n",
              "       -792.18416163,  476.74583782,  101.04457032,  177.06417623,\n",
              "        751.27932109,   67.62538639])"
            ]
          },
          "metadata": {
            "tags": []
          },
          "execution_count": 57
        }
      ]
    },
    {
      "cell_type": "code",
      "metadata": {
        "id": "wZ6mKgCXUim1",
        "colab_type": "code",
        "colab": {
          "base_uri": "https://localhost:8080/",
          "height": 51
        },
        "outputId": "fef263c6-bb8b-464f-ca2b-9876749dcc58"
      },
      "source": [
        "y_pred = regr.predict(X)\n",
        "RSS = np.mean((y_pred-y)**2)/(np.std(y)**2)\n",
        "Rsq = 1-RSS\n",
        "print(\"RSS per sample = {0:f}\".format(RSS))\n",
        "print(\"R^2 =            {0:f}\".format(Rsq))"
      ],
      "execution_count": 59,
      "outputs": [
        {
          "output_type": "stream",
          "text": [
            "RSS per sample = 0.482251\n",
            "R^2 =            0.517749\n"
          ],
          "name": "stdout"
        }
      ]
    }
  ]
}