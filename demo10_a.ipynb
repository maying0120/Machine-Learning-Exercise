{
  "nbformat": 4,
  "nbformat_minor": 0,
  "metadata": {
    "colab": {
      "name": "lec10a.ipynb",
      "provenance": []
    },
    "kernelspec": {
      "name": "python3",
      "display_name": "Python 3"
    }
  },
  "cells": [
    {
      "cell_type": "markdown",
      "metadata": {
        "id": "8HOm2nh3tRAk",
        "colab_type": "text"
      },
      "source": [
        "Language prediction from character-wise surnames.\n"
      ]
    },
    {
      "cell_type": "code",
      "metadata": {
        "id": "EOeIrijwtK6E",
        "colab_type": "code",
        "colab": {
          "base_uri": "https://localhost:8080/",
          "height": 275
        },
        "outputId": "b5a45afa-c977-4954-d056-344bc6b207c2"
      },
      "source": [
        "%matplotlib inline\n",
        "\n",
        "!wget https://download.pytorch.org/tutorial/data.zip\n",
        "!unzip data.zip\n",
        "\n",
        "from __future__ import unicode_literals, print_function, division\n",
        "from io import open\n",
        "import glob\n",
        "import os\n",
        "\n",
        "def findFiles(path): return glob.glob(path)\n",
        "\n",
        "print(findFiles('data/names/*.txt'))\n",
        "\n",
        "import unicodedata\n",
        "import string\n",
        "\n",
        "all_letters = string.ascii_letters + \" .,;'\"\n",
        "n_letters = len(all_letters)\n",
        "\n",
        "# Turn a Unicode string to plain ASCII, thanks to http://stackoverflow.com/a/518232/2809427\n",
        "def unicodeToAscii(s):\n",
        "    return ''.join(\n",
        "        c for c in unicodedata.normalize('NFD', s)\n",
        "        if unicodedata.category(c) != 'Mn'\n",
        "        and c in all_letters\n",
        "    )\n"
      ],
      "execution_count": 29,
      "outputs": [
        {
          "output_type": "stream",
          "text": [
            "--2020-04-05 19:54:50--  https://download.pytorch.org/tutorial/data.zip\n",
            "Resolving download.pytorch.org (download.pytorch.org)... 13.226.45.116, 13.226.45.35, 13.226.45.86, ...\n",
            "Connecting to download.pytorch.org (download.pytorch.org)|13.226.45.116|:443... connected.\n",
            "HTTP request sent, awaiting response... 200 OK\n",
            "Length: 2882130 (2.7M) [application/zip]\n",
            "Saving to: ‘data.zip.1’\n",
            "\n",
            "\rdata.zip.1            0%[                    ]       0  --.-KB/s               \rdata.zip.1          100%[===================>]   2.75M  15.6MB/s    in 0.2s    \n",
            "\n",
            "2020-04-05 19:54:50 (15.6 MB/s) - ‘data.zip.1’ saved [2882130/2882130]\n",
            "\n",
            "Archive:  data.zip\n",
            "replace data/eng-fra.txt? [y]es, [n]o, [A]ll, [N]one, [r]ename: N\n",
            "['data/names/French.txt', 'data/names/Chinese.txt', 'data/names/Czech.txt', 'data/names/Japanese.txt', 'data/names/German.txt', 'data/names/Portuguese.txt', 'data/names/Irish.txt', 'data/names/English.txt', 'data/names/Korean.txt', 'data/names/Russian.txt', 'data/names/Italian.txt', 'data/names/Spanish.txt', 'data/names/Polish.txt', 'data/names/Dutch.txt', 'data/names/Vietnamese.txt', 'data/names/Scottish.txt', 'data/names/Arabic.txt', 'data/names/Greek.txt']\n"
          ],
          "name": "stdout"
        }
      ]
    },
    {
      "cell_type": "markdown",
      "metadata": {
        "id": "CuO7F_LAuKAc",
        "colab_type": "text"
      },
      "source": [
        "Build a list of names per language."
      ]
    },
    {
      "cell_type": "code",
      "metadata": {
        "id": "4yTtu9O4uO-G",
        "colab_type": "code",
        "colab": {}
      },
      "source": [
        "# Build the category_lines dictionary, a list of names per language\n",
        "category_lines = {}\n",
        "all_categories = []\n",
        "\n",
        "# Read a file and split into lines\n",
        "def readLines(filename):\n",
        "    lines = open(filename, encoding='utf-8').read().strip().split('\\n')\n",
        "    return [unicodeToAscii(line) for line in lines]\n",
        "\n",
        "for filename in findFiles('data/names/*.txt'):\n",
        "    category = os.path.splitext(os.path.basename(filename))[0]\n",
        "    all_categories.append(category)\n",
        "    lines = readLines(filename)\n",
        "    category_lines[category] = lines\n",
        "\n",
        "n_categories = len(all_categories)"
      ],
      "execution_count": 0,
      "outputs": []
    },
    {
      "cell_type": "code",
      "metadata": {
        "id": "_glHLOisumww",
        "colab_type": "code",
        "colab": {
          "base_uri": "https://localhost:8080/",
          "height": 34
        },
        "outputId": "3b891887-2396-4772-caeb-012e01f4f9aa"
      },
      "source": [
        "print(category_lines['Chinese'][:5])"
      ],
      "execution_count": 31,
      "outputs": [
        {
          "output_type": "stream",
          "text": [
            "['Ang', 'AuYong', 'Bai', 'Ban', 'Bao']\n"
          ],
          "name": "stdout"
        }
      ]
    },
    {
      "cell_type": "markdown",
      "metadata": {
        "id": "Y7eSBLonu5uH",
        "colab_type": "text"
      },
      "source": [
        "Convert names to Pytorch tensors. We will do it character-by-character, so each letter is one-hot encoded."
      ]
    },
    {
      "cell_type": "code",
      "metadata": {
        "id": "vJKvtCyOvF7U",
        "colab_type": "code",
        "colab": {
          "base_uri": "https://localhost:8080/",
          "height": 102
        },
        "outputId": "b3d4e9f6-7ce6-4486-92bc-1b8c21e701b0"
      },
      "source": [
        "import torch\n",
        "\n",
        "def letterToIndex(letter):\n",
        "    return all_letters.find(letter)\n",
        "\n",
        "def letterToTensor(letter):\n",
        "    tensor = torch.zeros(1, n_letters)\n",
        "    tensor[0][letterToIndex(letter)] = 1\n",
        "    return tensor\n",
        "\n",
        "# Turn a line into an array of one-hot letter vectors\n",
        "def lineToTensor(line):\n",
        "    tensor = torch.zeros(len(line), 1, n_letters)\n",
        "    for li, letter in enumerate(line):\n",
        "        tensor[li][0][letterToIndex(letter)] = 1\n",
        "    return tensor\n",
        "\n",
        "print(letterToTensor('B'))\n",
        "\n",
        "print(lineToTensor('Bai').size())"
      ],
      "execution_count": 32,
      "outputs": [
        {
          "output_type": "stream",
          "text": [
            "tensor([[0., 0., 0., 0., 0., 0., 0., 0., 0., 0., 0., 0., 0., 0., 0., 0., 0., 0.,\n",
            "         0., 0., 0., 0., 0., 0., 0., 0., 0., 1., 0., 0., 0., 0., 0., 0., 0., 0.,\n",
            "         0., 0., 0., 0., 0., 0., 0., 0., 0., 0., 0., 0., 0., 0., 0., 0., 0., 0.,\n",
            "         0., 0., 0.]])\n",
            "torch.Size([3, 1, 57])\n"
          ],
          "name": "stdout"
        }
      ]
    },
    {
      "cell_type": "markdown",
      "metadata": {
        "id": "NeXvc9POv_Ya",
        "colab_type": "text"
      },
      "source": [
        "Quick helper function to get names/languages."
      ]
    },
    {
      "cell_type": "code",
      "metadata": {
        "id": "X-2r09njv9Ep",
        "colab_type": "code",
        "colab": {
          "base_uri": "https://localhost:8080/",
          "height": 187
        },
        "outputId": "d2ec9a03-520c-4bbb-d175-e787bac16f19"
      },
      "source": [
        "import random\n",
        "\n",
        "def randomChoice(l):\n",
        "    return l[random.randint(0, len(l) - 1)]\n",
        "\n",
        "def randomTrainingExample():\n",
        "    category = randomChoice(all_categories)\n",
        "    line = randomChoice(category_lines[category])\n",
        "    category_tensor = torch.tensor([all_categories.index(category)], dtype=torch.long)\n",
        "    line_tensor = lineToTensor(line)\n",
        "    return category, line, category_tensor, line_tensor\n",
        "\n",
        "for i in range(10):\n",
        "    category, line, category_tensor, line_tensor = randomTrainingExample()\n",
        "    print('category =', category, '/ line =', line)"
      ],
      "execution_count": 33,
      "outputs": [
        {
          "output_type": "stream",
          "text": [
            "category = Italian / line = Tedesco\n",
            "category = Greek / line = Bilias\n",
            "category = Arabic / line = Zogby\n",
            "category = Japanese / line = Shintaro\n",
            "category = English / line = Lenihan\n",
            "category = French / line = Brisbois\n",
            "category = Polish / line = Gorski\n",
            "category = Italian / line = Ambrogi\n",
            "category = Czech / line = Pesek\n",
            "category = Korean / line = Byon\n"
          ],
          "name": "stdout"
        }
      ]
    },
    {
      "cell_type": "markdown",
      "metadata": {
        "id": "zrTwovIywWVS",
        "colab_type": "text"
      },
      "source": [
        "Another helper function to convert output logits to language."
      ]
    },
    {
      "cell_type": "code",
      "metadata": {
        "id": "KgFTiKJMwZ0I",
        "colab_type": "code",
        "colab": {}
      },
      "source": [
        "def categoryFromOutput(output):\n",
        "    top_n, top_i = output.topk(1)\n",
        "    category_i = top_i[0].item()\n",
        "    return all_categories[category_i], category_i"
      ],
      "execution_count": 0,
      "outputs": []
    },
    {
      "cell_type": "markdown",
      "metadata": {
        "id": "10K096_AwcXb",
        "colab_type": "text"
      },
      "source": [
        "OK, now let's define our network and train the model. We will use a recurrent neural network (RNN) with a hidden state vector of size 128. It will pass each character sequentially (remember each character is one-hot encoded) and then finally perform a softmax to get the 18 classes."
      ]
    },
    {
      "cell_type": "code",
      "metadata": {
        "id": "jmxbzHTtwoxR",
        "colab_type": "code",
        "colab": {}
      },
      "source": [
        "import torch.nn as nn\n",
        "\n",
        "class RNN(nn.Module):\n",
        "    def __init__(self, input_size, hidden_size, output_size):\n",
        "        super(RNN, self).__init__()\n",
        "\n",
        "        self.hidden_size = hidden_size\n",
        "\n",
        "        self.i2h = nn.Linear(input_size + hidden_size, hidden_size)\n",
        "        self.i2o = nn.Linear(input_size + hidden_size, output_size)\n",
        "        self.softmax = nn.LogSoftmax(dim=1)\n",
        "\n",
        "    def forward(self, input, hidden):\n",
        "        combined = torch.cat((input, hidden), 1)\n",
        "        hidden = self.i2h(combined)\n",
        "        output = self.i2o(combined)\n",
        "        output = self.softmax(output)\n",
        "        return output, hidden\n",
        "\n",
        "    def initHidden(self):\n",
        "        return torch.zeros(1, self.hidden_size)\n",
        "\n",
        "n_hidden = 128\n",
        "rnn = RNN(n_letters, n_hidden, n_categories)"
      ],
      "execution_count": 0,
      "outputs": []
    },
    {
      "cell_type": "markdown",
      "metadata": {
        "id": "kkhIVj9Sx-uz",
        "colab_type": "text"
      },
      "source": [
        "OK, great. Let's train this network. Each loop of training will read each letter in, keep the hidden state for the next letter, and compare the final output with the target label using Cross Entropy Loss. This will be used to backpropagate through the weights."
      ]
    },
    {
      "cell_type": "code",
      "metadata": {
        "id": "4xdvVfHoyBO8",
        "colab_type": "code",
        "colab": {}
      },
      "source": [
        "lr = 0.005\n",
        "criterion = nn.NLLLoss()\n",
        "\n",
        "def train(category_tensor,line_tensor):\n",
        "  hidden=rnn.initHidden()\n",
        "  rnn.zero_grad()\n",
        "  for i in range(line_tensor.size()[0]):\n",
        "    output, hidden = rnn(line_tensor[i],hidden)\n",
        "  \n",
        "  loss = criterion(output,category_tensor)\n",
        "  loss.backward()\n",
        "\n",
        "  for p in rnn.parameters():\n",
        "    p.data.add_(-lr,p.grad.data)\n",
        "  \n",
        "  return output, loss.item()\n",
        "  \n",
        "def test(line_tensor):\n",
        "  hidden = rnn.initHidden()\n",
        "  for i in range(line_tensor.size()[0]):\n",
        "    output, hidden = rnn(line_tensor[i], hidden)\n",
        "\n",
        "  return output"
      ],
      "execution_count": 0,
      "outputs": []
    },
    {
      "cell_type": "markdown",
      "metadata": {
        "id": "ebQOxHu23-nH",
        "colab_type": "text"
      },
      "source": [
        "OK! Now we can run a script to monitor the training process. Observe how the loss decreases over time. "
      ]
    },
    {
      "cell_type": "code",
      "metadata": {
        "id": "ja1vaJJS4E4d",
        "colab_type": "code",
        "colab": {
          "base_uri": "https://localhost:8080/",
          "height": 357
        },
        "outputId": "a7596952-45f7-4135-dc92-b24a8b7b7a22"
      },
      "source": [
        "n_iters = 100000\n",
        "print_every = 5000\n",
        "plot_every = 1000\n",
        "\n",
        "# Keep track of losses for plotting\n",
        "current_loss = 0\n",
        "all_losses = []\n",
        "\n",
        "\n",
        "for iter in range(1, n_iters + 1):\n",
        "    category, line, category_tensor, line_tensor = randomTrainingExample()\n",
        "    output, loss = train(category_tensor, line_tensor)\n",
        "    current_loss += loss\n",
        "\n",
        "    # Print iter number, loss, name and guess\n",
        "    if iter % print_every == 0:\n",
        "        guess, guess_i = categoryFromOutput(output)\n",
        "        correct = 'Y' if guess == category else 'N (%s)' % category\n",
        "        print('%d %d%% %.4f %s / %s %s' % (iter, iter / n_iters * 100, loss, line, guess, correct))\n",
        "\n",
        "    # Add current loss avg to list of losses\n",
        "    if iter % plot_every == 0:\n",
        "        all_losses.append(current_loss / plot_every)\n",
        "        current_loss = 0"
      ],
      "execution_count": 37,
      "outputs": [
        {
          "output_type": "stream",
          "text": [
            "5000 5% 2.8812 Albuquerque / German N (Portuguese)\n",
            "10000 10% 2.3976 Odriscoll / Italian N (English)\n",
            "15000 15% 1.8143 Salib / Arabic Y\n",
            "20000 20% 3.0821 Ui / Korean N (Japanese)\n",
            "25000 25% 3.8161 Raske / Polish N (Dutch)\n",
            "30000 30% 1.1736 Yeo / Chinese N (Korean)\n",
            "35000 35% 2.7148 Knopf / Arabic N (German)\n",
            "40000 40% 2.6530 Kubin / Russian N (Czech)\n",
            "45000 45% 2.1725 Millar / Scottish N (English)\n",
            "50000 50% 0.4774 Soares / Portuguese Y\n",
            "55000 55% 1.9418 Blanco / Italian N (Spanish)\n",
            "60000 60% 0.6971 O'Neal / Irish Y\n",
            "65000 65% 1.6441 Arreola / Portuguese N (Spanish)\n",
            "70000 70% 2.7261 Seger / German N (Czech)\n",
            "75000 75% 1.1403 Phi / Vietnamese Y\n",
            "80000 80% 4.0694 Salazar / Polish N (Spanish)\n",
            "85000 85% 0.3784 Zhu / Chinese Y\n",
            "90000 90% 0.4804 Hew / Chinese Y\n",
            "95000 95% 0.2778 Yang / Korean Y\n",
            "100000 100% 0.8105 Remishevsky / Russian Y\n"
          ],
          "name": "stdout"
        }
      ]
    },
    {
      "cell_type": "markdown",
      "metadata": {
        "id": "csFMr2i14_yO",
        "colab_type": "text"
      },
      "source": [
        "Great! Seems like things are improving. We can now compute a confusion matrix to see how well we have done."
      ]
    },
    {
      "cell_type": "code",
      "metadata": {
        "id": "sRNGSY694_YB",
        "colab_type": "code",
        "colab": {}
      },
      "source": [
        "confusion = torch.zeros(n_categories, n_categories)\n",
        "n_confusion = 10000\n",
        "\n",
        "for i in range(n_confusion):\n",
        "    category, line, category_tensor, line_tensor = randomTrainingExample()\n",
        "    output = test(line_tensor)\n",
        "    guess, guess_i = categoryFromOutput(output)\n",
        "    category_i = all_categories.index(category)\n",
        "    confusion[category_i][guess_i] += 1\n",
        "\n",
        "# Normalize by dividing every row by its sum\n",
        "for i in range(n_categories):\n",
        "    confusion[i] = confusion[i] / confusion[i].sum()"
      ],
      "execution_count": 0,
      "outputs": []
    },
    {
      "cell_type": "markdown",
      "metadata": {
        "id": "3yqDdcGB5wj_",
        "colab_type": "text"
      },
      "source": [
        "Let's visualize the confusion matrix!"
      ]
    },
    {
      "cell_type": "code",
      "metadata": {
        "id": "KwLA93uT5psj",
        "colab_type": "code",
        "colab": {
          "base_uri": "https://localhost:8080/",
          "height": 320
        },
        "outputId": "9c52d6fd-06fd-4281-9ca7-ca62278e07f5"
      },
      "source": [
        "import matplotlib.pyplot as plt\n",
        "import matplotlib.ticker as ticker\n",
        "\n",
        "fig = plt.figure()\n",
        "ax = fig.add_subplot(111)\n",
        "cax = ax.matshow(confusion.numpy())\n",
        "fig.colorbar(cax)\n",
        "\n",
        "# Set up axes\n",
        "ax.set_xticklabels([''] + all_categories, rotation=90)\n",
        "ax.set_yticklabels([''] + all_categories)\n",
        "\n",
        "# Force label at every tick\n",
        "ax.xaxis.set_major_locator(ticker.MultipleLocator(1))\n",
        "ax.yaxis.set_major_locator(ticker.MultipleLocator(1))\n",
        "\n",
        "plt.show()"
      ],
      "execution_count": 39,
      "outputs": [
        {
          "output_type": "display_data",
          "data": {
            "image/png": "[encoded data removed]",
            "text/plain": [
              "<Figure size 432x288 with 2 Axes>"
            ]
          },
          "metadata": {
            "tags": []
          }
        }
      ]
    }
  ]
}